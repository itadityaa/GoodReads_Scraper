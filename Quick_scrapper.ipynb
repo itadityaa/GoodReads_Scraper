{
 "cells": [
  {
   "cell_type": "code",
   "execution_count": null,
   "metadata": {},
   "outputs": [],
   "source": [
    "import argparse\n",
    "from bs4 import BeautifulSoup as soup\n",
    "import requests as req\n",
    "import pandas as pd\n",
    "from IPython.display import Image"
   ]
  }
 ],
 "metadata": {
  "language_info": {
   "name": "python"
  },
  "orig_nbformat": 4
 },
 "nbformat": 4,
 "nbformat_minor": 2
}
